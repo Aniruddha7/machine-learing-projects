{
  "nbformat": 4,
  "nbformat_minor": 0,
  "metadata": {
    "colab": {
      "name": "BackProp.ipynb",
      "version": "0.3.2",
      "provenance": [],
      "collapsed_sections": [],
      "include_colab_link": true
    },
    "kernelspec": {
      "name": "python3",
      "display_name": "Python 3"
    }
  },
  "cells": [
    {
      "cell_type": "markdown",
      "metadata": {
        "id": "view-in-github",
        "colab_type": "text"
      },
      "source": [
        "<a href=\"https://colab.research.google.com/github/krishnagorrepati/machine-learing-projects/blob/master/BackProp.ipynb\" target=\"_parent\"><img src=\"https://colab.research.google.com/assets/colab-badge.svg\" alt=\"Open In Colab\"/></a>"
      ]
    },
    {
      "metadata": {
        "id": "oyICBCj-YjRo",
        "colab_type": "text"
      },
      "cell_type": "markdown",
      "source": [
        "#2A Assignment"
      ]
    },
    {
      "metadata": {
        "id": "EkoL-Ig8msGA",
        "colab_type": "text"
      },
      "cell_type": "markdown",
      "source": [
        "#Backpropagation Step by Step"
      ]
    },
    {
      "metadata": {
        "id": "BeZ_nr8XnEeM",
        "colab_type": "text"
      },
      "cell_type": "markdown",
      "source": [
        "> >  >  > ![](https://hmkcode.github.io/images/ai/backpropagation.png)"
      ]
    },
    {
      "metadata": {
        "id": "IjsFvKwkoSmA",
        "colab_type": "text"
      },
      "cell_type": "markdown",
      "source": [
        "If you are building your own neural network, you will definitely need to understand how to train it. Backpropagation is a commonly used technique for training neural network. There are many resources explaining the technique, but this post will explain backpropagation with concrete example in a very detailed colorful steps."
      ]
    },
    {
      "metadata": {
        "id": "OFftb-dmo44Q",
        "colab_type": "text"
      },
      "cell_type": "markdown",
      "source": [
        "#Overview\n",
        "---\n",
        "In this post, we will build a neural network with three layers:\n",
        "\n",
        "*   **Input** layer with two inputs neurons\n",
        "*   One **hidden** layer with two neurons\n",
        "*  **Output** layer with a single neuron\n",
        "\n",
        "![](http://hmkcode.github.io/images/ai/nn1.png)\n",
        "\n",
        "\n",
        "\n",
        "\n",
        "\n",
        "\n",
        "\n",
        "\n"
      ]
    },
    {
      "metadata": {
        "id": "mh5ej9CCD5oe",
        "colab_type": "text"
      },
      "cell_type": "markdown",
      "source": [
        "#Dataset\n",
        "Our dataset has one sample with two inputs and one output.\n",
        "![](http://hmkcode.github.io/images/ai/bp_dataset.png)\n",
        "\n",
        "Our single sample is as following inputs=[2, 3] and output=[1].\n",
        "\n",
        "\n"
      ]
    },
    {
      "metadata": {
        "id": "Y4-9Atqdq7ec",
        "colab_type": "text"
      },
      "cell_type": "markdown",
      "source": [
        "#Weights, weights, weights\n",
        "\n",
        "Neural network training is about finding weights that minimize prediction error. We usually start our training with a set of randomly generated weights.Then, backpropagation is used to update the weights in an attempt to correctly map arbitrary inputs to outputs.\n",
        "\n",
        "Our initial weights will be as following: w1 = 0.25, w2 = 0.35, w3 = 0.45, w4 = 0.55, w5 = 0.15 and w6 = 0.15\n",
        "![](https://drive.google.com/uc?id=11KP53StvUhrePHqTkw6br-ajapzUXGPJ)"
      ]
    },
    {
      "metadata": {
        "id": "ESe-mHMNcXDA",
        "colab_type": "text"
      },
      "cell_type": "markdown",
      "source": [
        "#Calculating Error\n",
        "Now, it’s time to find out how our network performed by calculating the difference between the actual output and predicted one. It’s clear that our network output, or prediction, is not even close to actual output. We can calculate the difference or the error as following.\n",
        "\n",
        "![](https://drive.google.com/uc?id=1FpR5inb50-EDEUDsA795eu7EGG91H-n_)"
      ]
    },
    {
      "metadata": {
        "id": "QFC-SxYrEkz-",
        "colab_type": "text"
      },
      "cell_type": "markdown",
      "source": [
        "#Forward Pass\n",
        "We will use given weights and inputs to predict the output. Inputs are multiplied by weights; the results are then passed forward to next layer.\n",
        "\n",
        "![](https://drive.google.com/uc?id=11KP53StvUhrePHqTkw6br-ajapzUXGPJ)"
      ]
    },
    {
      "metadata": {
        "id": "pkga_dulcjOY",
        "colab_type": "text"
      },
      "cell_type": "markdown",
      "source": [
        "#Reducing Error\n",
        "Our main goal of the training is to reduce the error or the difference between prediction and actual output. Since actual output is constant, “not changing”, the only way to reduce the error is to change prediction value. The question now is, how to change prediction value?\n",
        "\n",
        "By decomposing prediction into its basic elements we can find that weights are the variable elements affecting prediction value. In other words, in order to change prediction value, we need to change weights values.\n",
        "\n",
        "![](http://hmkcode.github.io/images/ai/bp_prediction_elements.png)\n",
        "\n",
        "The question now is how to change update the weights value so that the error is reduced?\n",
        "The answer is Backpropagation!\n",
        "\n",
        "\n",
        "\n",
        "\n",
        "\n"
      ]
    },
    {
      "metadata": {
        "id": "sqipx0NAg45v",
        "colab_type": "text"
      },
      "cell_type": "markdown",
      "source": [
        "#Back Propagration\n",
        "Backpropagation, short for “backward propagation of errors”, is a mechanism used to update the weights using gradient descent. It calculates the gradient of the error function with respect to the neural network’s weights. The calculation proceeds backwards through the network.\n",
        "\n",
        "***Gradient descent*** is an iterative optimization algorithm for finding the minimum of a function; in our case we want to minimize th error function. To find a local minimum of a function using gradient descent, one takes steps proportional to the negative of the gradient of the function at the current point.\n",
        "\n",
        "![](http://hmkcode.github.io/images/ai/bp_update_formula.png)\n",
        "\n",
        "\n",
        "For example, to update* w6*, we take the current *w6* and subtract the partial derivative of **error** function with respect to w6. Optionally, we multiply the derivative of the **error** function by a selected number to make sure that the new updated **weight** is minimizing the error function; this number is called **learning rate**.\n",
        "\n",
        "The derivation of the error function is evaluated by applying the chain rule as following.\n",
        "\n",
        "![](http://hmkcode.github.io/images/ai/bp_error_function_partial_derivative_w6.png)\n",
        "\n",
        "So to update w6 we can apply the following formula\n",
        "\n",
        "![](http://hmkcode.github.io/images/ai/bp_w6_update_closed_form.png)\n",
        "\n",
        "Similarly, we can derive the update formula for w5 and any other weights existing between the output and the hidden layer.\n",
        "\n",
        "![](http://hmkcode.github.io/images/ai/bp_w5_update_closed_form.png)\n",
        "\n",
        "However, when moving backward to update w1, w2, w3 and w4 existing between input and hidden layer, the partial derivative for the error function with respect to w1, for example, will be as following.\n",
        "\n",
        "![](http://hmkcode.github.io/images/ai/bp_error_function_partial_derivative_w1.png)\n",
        "\n",
        "We can find the update formula for the remaining weights w2, w3 and w4 in the same way.\n",
        "\n",
        "In summary, the update formulas for all weights will be as following:\n",
        "\n",
        "![](http://hmkcode.github.io/images/ai/bp_update_all_weights.png)\n",
        "\n",
        "We can rewrite the update formulas in matrices as following\n",
        "\n",
        "![](http://hmkcode.github.io/images/ai/bp_update_all_weights_matrix.png)\n",
        "\n",
        "\n"
      ]
    },
    {
      "metadata": {
        "id": "WWzpnixjcFSm",
        "colab_type": "text"
      },
      "cell_type": "markdown",
      "source": [
        "#Backward Pass:\n",
        "Our initial weights will be as following: w1 = 0.25, w2 = 0.35, w3 = 0.45, w4 = 0.55, w5 = 0.15 and w6 = 0.15\n",
        "\n",
        "Input Layer= [2,3]\n",
        "\n",
        "Actual Output = 1\n",
        "\n",
        "Using derived formulas we can find the new weights.\n",
        "Learning rate: is a hyperparameter which means that we need to manually guess its value.\n",
        "\n",
        "\n",
        "\n",
        "![](https://drive.google.com/uc?id=149fr4TWeYruGj0Uj20b3QJAIjPItprSo)\n",
        "\n",
        "Now, using the new weights we will repeat the forward passed\n",
        "\n",
        "\n",
        "\n",
        "![](https://drive.google.com/uc?id=1_S9FK2wRBct9_OEDeJaigVkHNjUcMwEo)\n",
        "\n",
        "We can notice that the prediction **0.808** is a little bit closer to actual output than the previously predicted one **0.615**. We can repeat the same process of backward and forward pass until error is close or equal to zero.\n",
        "\n",
        "\n",
        "\n",
        "\n",
        "\n",
        "\n"
      ]
    },
    {
      "metadata": {
        "id": "o8INT8APa7HH",
        "colab_type": "text"
      },
      "cell_type": "markdown",
      "source": [
        "#2B Assignment"
      ]
    },
    {
      "metadata": {
        "id": "McuWLo7Ka_eB",
        "colab_type": "code",
        "colab": {}
      },
      "cell_type": "code",
      "source": [
        "import numpy as np"
      ],
      "execution_count": 0,
      "outputs": []
    },
    {
      "metadata": {
        "id": "bT0D9M4ZbHG0",
        "colab_type": "code",
        "outputId": "18757ab7-6ef3-4b7f-d724-9a1024b79660",
        "colab": {
          "base_uri": "https://localhost:8080/",
          "height": 103
        }
      },
      "cell_type": "code",
      "source": [
        "input= np.array([2,3])\n",
        "in_wghts= np.array([[0.25,0.45],[0.35,0.55]])\n",
        "print(input)\n",
        "print(in_wghts)\n",
        "input.shape\n",
        "in_wghts.shape\n",
        "result=input.dot(in_wghts)\n",
        "print(result)\n",
        "result.shape\n",
        "h_wghts = np.array([0.15,0.15])\n",
        "print(h_wghts)"
      ],
      "execution_count": 0,
      "outputs": [
        {
          "output_type": "stream",
          "text": [
            "[2 3]\n",
            "[[0.25 0.45]\n",
            " [0.35 0.55]]\n",
            "[1.55 2.55]\n",
            "[0.15 0.15]\n"
          ],
          "name": "stdout"
        }
      ]
    },
    {
      "metadata": {
        "id": "RYEcoROvbVgt",
        "colab_type": "code",
        "colab": {}
      },
      "cell_type": "code",
      "source": [
        "def forwardPass(input,in_wghts,h_wghts,actual):\n",
        "    h_layer = input.dot(in_wghts)\n",
        "    #print(h_layer)\n",
        "    \n",
        "    pred = h_layer.dot(h_wghts.T)\n",
        "    #print(pred)\n",
        "    error = pred-actual\n",
        "    return error,h_layer"
      ],
      "execution_count": 0,
      "outputs": []
    },
    {
      "metadata": {
        "id": "M2OBFwi_bczc",
        "colab_type": "code",
        "outputId": "b11f13b1-50bf-4da0-d7b8-3cf09f7ff1e1",
        "colab": {
          "base_uri": "https://localhost:8080/",
          "height": 69
        }
      },
      "cell_type": "code",
      "source": [
        "error,h_layer = forwardPass(input,in_wghts,h_wghts,1)\n",
        "print(\"Error \",error)\n",
        "print(\"Hidden Layer \",h_layer)\n",
        "print(\"Preditecd Value after First Forward Pass\", 1+error)"
      ],
      "execution_count": 0,
      "outputs": [
        {
          "output_type": "stream",
          "text": [
            "Error  -0.385\n",
            "Hidden Layer  [1.55 2.55]\n",
            "Preditecd Value after First Forward Pass 0.615\n"
          ],
          "name": "stdout"
        }
      ]
    },
    {
      "metadata": {
        "id": "fIs7VSMAblwD",
        "colab_type": "code",
        "colab": {}
      },
      "cell_type": "code",
      "source": [
        "def backPass(in_layer,h_layer,in_wghts,h_wghts,error,actual,learn_rate):\n",
        "    Modified_h_wghts = h_wghts.T - learn_rate*error*h_layer.T\n",
        "    #print(in_layer.T.shape)\n",
        "    #print(h_wghts)\n",
        "    Modified_in_wghts = in_wghts - learn_rate*error*h_wghts.dot(in_layer.T)\n",
        "    #print(\"Errors\"%error)\n",
        "    #print(in_wghts)\n",
        "    #print(h_wghts)\n",
        "    #print(in_layer.T)\n",
        "    return Modified_h_wghts,Modified_in_wghts"
      ],
      "execution_count": 0,
      "outputs": []
    },
    {
      "metadata": {
        "id": "HeWU1cVCbmzV",
        "colab_type": "code",
        "outputId": "a636cd8e-5b07-4ecb-8d7b-f8e994d996e1",
        "colab": {
          "base_uri": "https://localhost:8080/",
          "height": 103
        }
      },
      "cell_type": "code",
      "source": [
        "Modified_h_weights,Modified_in_wghts = backPass(input,h_layer,in_wghts,h_wghts,error,1,0.05)\n",
        "print(\"Modified weights between Hidden Layer and Output Layer \\n\",Modified_h_weights)\n",
        "print(\"Modified Weights between input and Hidden layer \\n\",Modified_in_wghts)\n"
      ],
      "execution_count": 0,
      "outputs": [
        {
          "output_type": "stream",
          "text": [
            "Modified weights between Hidden Layer and Output Layer \n",
            " [0.1798375 0.1990875]\n",
            "Modified Weights between input and Hidden layer \n",
            " [[0.2644375 0.4644375]\n",
            " [0.3644375 0.5644375]]\n"
          ],
          "name": "stdout"
        }
      ]
    },
    {
      "metadata": {
        "id": "-1mqCaD1bz45",
        "colab_type": "code",
        "outputId": "84d91a57-f7ca-4ff5-cbea-8d5f76cd6e5a",
        "colab": {
          "base_uri": "https://localhost:8080/",
          "height": 51
        }
      },
      "cell_type": "code",
      "source": [
        "error,h_layer = forwardPass(input,Modified_in_wghts,Modified_h_weights,1)\n",
        "print(\"Error\",error)\n",
        "print(\"Preditecd Value after second Forward Pass\", 1+error)"
      ],
      "execution_count": 0,
      "outputs": [
        {
          "output_type": "stream",
          "text": [
            "Error -0.18622510156250005\n",
            "Preditecd Value after second Forward Pass 0.8137748984375\n"
          ],
          "name": "stdout"
        }
      ]
    }
  ]
}