{
  "nbformat": 4,
  "nbformat_minor": 0,
  "metadata": {
    "colab": {
      "name": "BackProp.ipynb",
      "version": "0.3.2",
      "provenance": [],
      "collapsed_sections": [],
      "include_colab_link": true
    },
    "kernelspec": {
      "name": "python3",
      "display_name": "Python 3"
    }
  },
  "cells": [
    {
      "cell_type": "markdown",
      "metadata": {
        "id": "view-in-github",
        "colab_type": "text"
      },
      "source": [
        "<a href=\"https://colab.research.google.com/github/krishnagorrepati/machine-learing-projects/blob/master/BackProp.ipynb\" target=\"_parent\"><img src=\"https://colab.research.google.com/assets/colab-badge.svg\" alt=\"Open In Colab\"/></a>"
      ]
    },
    {
      "metadata": {
        "id": "EkoL-Ig8msGA",
        "colab_type": "text"
      },
      "cell_type": "markdown",
      "source": [
        "#Backpropagation Step by Step"
      ]
    },
    {
      "metadata": {
        "id": "BeZ_nr8XnEeM",
        "colab_type": "text"
      },
      "cell_type": "markdown",
      "source": [
        "> >  >  > ![](https://hmkcode.github.io/images/ai/backpropagation.png)"
      ]
    },
    {
      "metadata": {
        "id": "IjsFvKwkoSmA",
        "colab_type": "text"
      },
      "cell_type": "markdown",
      "source": [
        "If you are building your own neural network, you will definitely need to understand how to train it. Backpropagation is a commonly used technique for training neural network. There are many resources explaining the technique, but this post will explain backpropagation with concrete example in a very detailed colorful steps."
      ]
    },
    {
      "metadata": {
        "id": "OFftb-dmo44Q",
        "colab_type": "text"
      },
      "cell_type": "markdown",
      "source": [
        "#Overview\n",
        "---\n",
        "In this post, we will build a neural network with three layers:\n",
        "\n",
        "*   **Input** layer with two inputs neurons\n",
        "*   One **hidden** layer with two neurons\n",
        "*  **Output** layer with a single neuron\n",
        "\n",
        "![](http://hmkcode.github.io/images/ai/nn1.png)\n",
        "\n",
        "\n",
        "\n",
        "\n",
        "\n",
        "\n",
        "\n",
        "\n"
      ]
    }
  ]
}